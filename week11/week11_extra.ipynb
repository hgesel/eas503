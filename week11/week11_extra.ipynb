{
 "cells": [
  {
   "cell_type": "markdown",
   "id": "427d77cc",
   "metadata": {},
   "source": [
    "# Week 11. Extra.\n",
    "\n",
    "# Concurrent access to same db\n",
    "\n",
    "You need to commit changes by:\n",
    "```python\n",
    "connector.commit()\n",
    "```\n",
    "upon the change. This way the changes will be flushed to file and other connections will see the change."
   ]
  },
  {
   "cell_type": "markdown",
   "id": "9094d58d",
   "metadata": {},
   "source": [
    "# Homework 6\n",
    "\n",
    "\"Exam1 (2016)\"\n",
    "- Exam1 - uniquely identify exam.\n",
    "- 2016 - the year Exam1 occurred. There is no more Exam1 on other years.\n",
    "\n",
    "# White Spaces are not visible on DataFrame Display"
   ]
  },
  {
   "cell_type": "markdown",
   "id": "0e9e1b12",
   "metadata": {},
   "source": [
    "# Programmatic DB Modifications"
   ]
  },
  {
   "cell_type": "code",
   "execution_count": 2,
   "id": "683b42a4",
   "metadata": {
    "pycharm": {
     "name": "#%%\n"
    }
   },
   "outputs": [],
   "source": [
    "import pandas\n",
    "from pprint import pprint\n",
    "import sqlite3\n",
    "\n",
    "# open db file\n",
    "conn = sqlite3.connect(\"example1normalize.db\")\n",
    "# get cursor\n",
    "cur = conn.cursor()"
   ]
  },
  {
   "cell_type": "code",
   "execution_count": 3,
   "id": "aec38c44",
   "metadata": {
    "pycharm": {
     "name": "#%%\n"
    }
   },
   "outputs": [
    {
     "data": {
      "text/plain": [
       "<sqlite3.Cursor at 0x1fb7cec0c70>"
      ]
     },
     "execution_count": 3,
     "metadata": {},
     "output_type": "execute_result"
    }
   ],
   "source": [
    "cur.executescript(\"\"\"\n",
    "    DROP TABLE IF EXISTS EMPLOYEES_PROJECTS_TIME;\n",
    "    CREATE TABLE [EMPLOYEES_PROJECTS_TIME] (\n",
    "            [EmployeeID] TEXT  NOT NULL PRIMARY KEY,\n",
    "            [Name] TEXT NOT NULL,\n",
    "            [Project] TEXT NOT NULL,\n",
    "            [Time] TEXT NOT NULL\n",
    "        );\n",
    "\n",
    "\n",
    "    INSERT INTO EMPLOYEES_PROJECTS_TIME VALUES('EN1-26', \"Sean O'Brien\", \"30-452-T3, 30-457-T3, 32-244-T3\", \"0.25, 0.40, 0.30\");\n",
    "    INSERT INTO EMPLOYEES_PROJECTS_TIME VALUES('EN1-33', \"Amy Guya\", \"30-452-T3, 30-382-TC, 32-244-T3\", \"0.05, 0.35, 0.60\");\n",
    "    INSERT INTO EMPLOYEES_PROJECTS_TIME VALUES('EN1-35', \"Steven Baranco\", \"30-452-T3, 31-238-TC\", \"0.15, 0.80\");\n",
    "    INSERT INTO EMPLOYEES_PROJECTS_TIME VALUES('EN1-36', \"Elizabeth Roslyn\", \"35-152-TC\", \"0.90\");\n",
    "    INSERT INTO EMPLOYEES_PROJECTS_TIME VALUES('EN1-38', \"Carol Schaaf\", \"36-272-TC\", \"0.75\");\n",
    "    INSERT INTO EMPLOYEES_PROJECTS_TIME VALUES('EN1-40', \"Alexandra Wing\", \"31-238-TC, 31-241-TC\", \"0.20, 0.70\");\n",
    "\"\"\")"
   ]
  },
  {
   "cell_type": "code",
   "execution_count": 5,
   "id": "f527a89a",
   "metadata": {
    "pycharm": {
     "name": "#%%\n"
    }
   },
   "outputs": [
    {
     "name": "stdout",
     "output_type": "stream",
     "text": [
      "[('EN1-26',\n",
      "  \"Sean O'Brien\",\n",
      "  '30-452-T3, 30-457-T3, 32-244-T3',\n",
      "  '0.25, 0.40, 0.30'),\n",
      " ('EN1-33', 'Amy Guya', '30-452-T3, 30-382-TC, 32-244-T3', '0.05, 0.35, 0.60'),\n",
      " ('EN1-35', 'Steven Baranco', '30-452-T3, 31-238-TC', '0.15, 0.80'),\n",
      " ('EN1-36', 'Elizabeth Roslyn', '35-152-TC', '0.90'),\n",
      " ('EN1-38', 'Carol Schaaf', '36-272-TC', '0.75'),\n",
      " ('EN1-40', 'Alexandra Wing', '31-238-TC, 31-241-TC', '0.20, 0.70')]\n"
     ]
    }
   ],
   "source": [
    "cur.execute(\"select * from EMPLOYEES_PROJECTS_TIME\")\n",
    "original_table = cur.fetchall()\n",
    "pprint(original_table)"
   ]
  },
  {
   "cell_type": "code",
   "execution_count": 6,
   "id": "8777e3be",
   "metadata": {
    "pycharm": {
     "name": "#%%\n"
    }
   },
   "outputs": [
    {
     "data": {
      "text/html": [
       "<div>\n",
       "<style scoped>\n",
       "    .dataframe tbody tr th:only-of-type {\n",
       "        vertical-align: middle;\n",
       "    }\n",
       "\n",
       "    .dataframe tbody tr th {\n",
       "        vertical-align: top;\n",
       "    }\n",
       "\n",
       "    .dataframe thead th {\n",
       "        text-align: right;\n",
       "    }\n",
       "</style>\n",
       "<table border=\"1\" class=\"dataframe\">\n",
       "  <thead>\n",
       "    <tr style=\"text-align: right;\">\n",
       "      <th></th>\n",
       "      <th>EmployeeID</th>\n",
       "      <th>Name</th>\n",
       "      <th>Project</th>\n",
       "      <th>Time</th>\n",
       "    </tr>\n",
       "  </thead>\n",
       "  <tbody>\n",
       "    <tr>\n",
       "      <th>0</th>\n",
       "      <td>EN1-26</td>\n",
       "      <td>Sean O'Brien</td>\n",
       "      <td>30-452-T3, 30-457-T3, 32-244-T3</td>\n",
       "      <td>0.25, 0.40, 0.30</td>\n",
       "    </tr>\n",
       "    <tr>\n",
       "      <th>1</th>\n",
       "      <td>EN1-33</td>\n",
       "      <td>Amy Guya</td>\n",
       "      <td>30-452-T3, 30-382-TC, 32-244-T3</td>\n",
       "      <td>0.05, 0.35, 0.60</td>\n",
       "    </tr>\n",
       "    <tr>\n",
       "      <th>2</th>\n",
       "      <td>EN1-35</td>\n",
       "      <td>Steven Baranco</td>\n",
       "      <td>30-452-T3, 31-238-TC</td>\n",
       "      <td>0.15, 0.80</td>\n",
       "    </tr>\n",
       "    <tr>\n",
       "      <th>3</th>\n",
       "      <td>EN1-36</td>\n",
       "      <td>Elizabeth Roslyn</td>\n",
       "      <td>35-152-TC</td>\n",
       "      <td>0.90</td>\n",
       "    </tr>\n",
       "    <tr>\n",
       "      <th>4</th>\n",
       "      <td>EN1-38</td>\n",
       "      <td>Carol Schaaf</td>\n",
       "      <td>36-272-TC</td>\n",
       "      <td>0.75</td>\n",
       "    </tr>\n",
       "    <tr>\n",
       "      <th>5</th>\n",
       "      <td>EN1-40</td>\n",
       "      <td>Alexandra Wing</td>\n",
       "      <td>31-238-TC, 31-241-TC</td>\n",
       "      <td>0.20, 0.70</td>\n",
       "    </tr>\n",
       "  </tbody>\n",
       "</table>\n",
       "</div>"
      ],
      "text/plain": [
       "  EmployeeID              Name                          Project  \\\n",
       "0     EN1-26      Sean O'Brien  30-452-T3, 30-457-T3, 32-244-T3   \n",
       "1     EN1-33          Amy Guya  30-452-T3, 30-382-TC, 32-244-T3   \n",
       "2     EN1-35    Steven Baranco             30-452-T3, 31-238-TC   \n",
       "3     EN1-36  Elizabeth Roslyn                        35-152-TC   \n",
       "4     EN1-38      Carol Schaaf                        36-272-TC   \n",
       "5     EN1-40    Alexandra Wing             31-238-TC, 31-241-TC   \n",
       "\n",
       "               Time  \n",
       "0  0.25, 0.40, 0.30  \n",
       "1  0.05, 0.35, 0.60  \n",
       "2        0.15, 0.80  \n",
       "3              0.90  \n",
       "4              0.75  \n",
       "5        0.20, 0.70  "
      ]
     },
     "metadata": {},
     "output_type": "display_data"
    }
   ],
   "source": [
    "display(pandas.read_sql_query(\"select * from EMPLOYEES_PROJECTS_TIME\", conn))"
   ]
  },
  {
   "cell_type": "markdown",
   "id": "b127ede9",
   "metadata": {
    "pycharm": {
     "name": "#%% md\n"
    }
   },
   "source": [
    "## lets normalize it"
   ]
  },
  {
   "cell_type": "code",
   "execution_count": 7,
   "id": "1def9cc1",
   "metadata": {
    "pycharm": {
     "name": "#%%\n"
    }
   },
   "outputs": [
    {
     "data": {
      "text/plain": [
       "<sqlite3.Cursor at 0x1fb7cec0c70>"
      ]
     },
     "execution_count": 7,
     "metadata": {},
     "output_type": "execute_result"
    }
   ],
   "source": [
    "# drop old table and create new tables\n",
    "# we have content of old one in original_table list of tuples\n",
    "cur.executescript(\"\"\"\n",
    "    DROP TABLE IF EXISTS employees_projects_time;\n",
    "    DROP TABLE IF EXISTS employees;\n",
    "    DROP TABLE IF EXISTS projects;\n",
    "\n",
    "\n",
    "    PRAGMA foreign_keys = ON;\n",
    "\n",
    "    CREATE TABLE employees (\n",
    "            employee_db_id INTEGER  NOT NULL PRIMARY KEY,\n",
    "            first_name TEXT  NOT NULL,\n",
    "            last_name TEXT NOT NULL,\n",
    "            employee_id TEXT NOT NULL,\n",
    "            UNIQUE(employee_id)\n",
    "        );\n",
    "    CREATE TABLE projects (\n",
    "            project_db_id INTEGER  NOT NULL PRIMARY KEY,\n",
    "            project_id TEXT NOT NULL,\n",
    "            UNIQUE(project_id)\n",
    "        );\n",
    "    CREATE TABLE employees_projects_time (\n",
    "            employees_projects_time_id INTEGER  NOT NULL PRIMARY KEY,\n",
    "            project_db_id INTEGER NOT NULL,\n",
    "            employee_db_id INTEGER NOT NULL,\n",
    "            time REAL NOT NULL,\n",
    "            FOREIGN KEY(employee_db_id) REFERENCES employees(employee_db_id),\n",
    "            FOREIGN KEY(project_db_id) REFERENCES projects(project_db_id),\n",
    "            UNIQUE(project_db_id, employee_db_id)\n",
    "        );\n",
    "\n",
    "\"\"\")"
   ]
  },
  {
   "cell_type": "code",
   "execution_count": 9,
   "id": "0a3a4547",
   "metadata": {
    "pycharm": {
     "name": "#%%\n"
    }
   },
   "outputs": [
    {
     "name": "stdout",
     "output_type": "stream",
     "text": [
      "EN1-26 Sean O'Brien\n",
      "\tAutogenerated primary key (employee_db_id) for Sean, O'Brien, EN1-26 is 1\n",
      "EN1-33 Amy Guya\n",
      "\tAutogenerated primary key (employee_db_id) for Amy, Guya, EN1-33 is 2\n",
      "EN1-35 Steven Baranco\n",
      "\tAutogenerated primary key (employee_db_id) for Steven, Baranco, EN1-35 is 3\n",
      "EN1-36 Elizabeth Roslyn\n",
      "\tAutogenerated primary key (employee_db_id) for Elizabeth, Roslyn, EN1-36 is 4\n",
      "EN1-38 Carol Schaaf\n",
      "\tAutogenerated primary key (employee_db_id) for Carol, Schaaf, EN1-38 is 5\n",
      "EN1-40 Alexandra Wing\n",
      "\tAutogenerated primary key (employee_db_id) for Alexandra, Wing, EN1-40 is 6\n"
     ]
    }
   ],
   "source": [
    "# populate employees\n",
    "for employee_id, name, *_ in original_table:\n",
    "    first_name, last_name = name.split()\n",
    "    print(employee_id,first_name, last_name)\n",
    "\n",
    "    cur.execute(\"INSERT INTO employees (first_name, last_name, employee_id) VALUES(?,?,?)\",\n",
    "                (first_name, last_name,employee_id))\n",
    "    print(f\"\\tAutogenerated primary key (employee_db_id) for {first_name}, {last_name}, {employee_id} is {cur.lastrowid}\")"
   ]
  },
  {
   "cell_type": "code",
   "execution_count": 10,
   "id": "7bb80817",
   "metadata": {
    "pycharm": {
     "name": "#%%\n"
    }
   },
   "outputs": [
    {
     "data": {
      "text/html": [
       "<div>\n",
       "<style scoped>\n",
       "    .dataframe tbody tr th:only-of-type {\n",
       "        vertical-align: middle;\n",
       "    }\n",
       "\n",
       "    .dataframe tbody tr th {\n",
       "        vertical-align: top;\n",
       "    }\n",
       "\n",
       "    .dataframe thead th {\n",
       "        text-align: right;\n",
       "    }\n",
       "</style>\n",
       "<table border=\"1\" class=\"dataframe\">\n",
       "  <thead>\n",
       "    <tr style=\"text-align: right;\">\n",
       "      <th></th>\n",
       "      <th>employee_db_id</th>\n",
       "      <th>first_name</th>\n",
       "      <th>last_name</th>\n",
       "      <th>employee_id</th>\n",
       "    </tr>\n",
       "  </thead>\n",
       "  <tbody>\n",
       "    <tr>\n",
       "      <th>0</th>\n",
       "      <td>1</td>\n",
       "      <td>Sean</td>\n",
       "      <td>O'Brien</td>\n",
       "      <td>EN1-26</td>\n",
       "    </tr>\n",
       "    <tr>\n",
       "      <th>1</th>\n",
       "      <td>2</td>\n",
       "      <td>Amy</td>\n",
       "      <td>Guya</td>\n",
       "      <td>EN1-33</td>\n",
       "    </tr>\n",
       "    <tr>\n",
       "      <th>2</th>\n",
       "      <td>3</td>\n",
       "      <td>Steven</td>\n",
       "      <td>Baranco</td>\n",
       "      <td>EN1-35</td>\n",
       "    </tr>\n",
       "    <tr>\n",
       "      <th>3</th>\n",
       "      <td>4</td>\n",
       "      <td>Elizabeth</td>\n",
       "      <td>Roslyn</td>\n",
       "      <td>EN1-36</td>\n",
       "    </tr>\n",
       "    <tr>\n",
       "      <th>4</th>\n",
       "      <td>5</td>\n",
       "      <td>Carol</td>\n",
       "      <td>Schaaf</td>\n",
       "      <td>EN1-38</td>\n",
       "    </tr>\n",
       "    <tr>\n",
       "      <th>5</th>\n",
       "      <td>6</td>\n",
       "      <td>Alexandra</td>\n",
       "      <td>Wing</td>\n",
       "      <td>EN1-40</td>\n",
       "    </tr>\n",
       "  </tbody>\n",
       "</table>\n",
       "</div>"
      ],
      "text/plain": [
       "   employee_db_id first_name last_name employee_id\n",
       "0               1       Sean   O'Brien      EN1-26\n",
       "1               2        Amy      Guya      EN1-33\n",
       "2               3     Steven   Baranco      EN1-35\n",
       "3               4  Elizabeth    Roslyn      EN1-36\n",
       "4               5      Carol    Schaaf      EN1-38\n",
       "5               6  Alexandra      Wing      EN1-40"
      ]
     },
     "metadata": {},
     "output_type": "display_data"
    }
   ],
   "source": [
    "display(pandas.read_sql_query(\"select * from employees\", conn))"
   ]
  },
  {
   "cell_type": "code",
   "execution_count": 11,
   "id": "3a82c338",
   "metadata": {
    "pycharm": {
     "name": "#%%\n"
    }
   },
   "outputs": [
    {
     "name": "stdout",
     "output_type": "stream",
     "text": [
      "[(1, 'Sean', \"O'Brien\", 'EN1-26'),\n",
      " (2, 'Amy', 'Guya', 'EN1-33'),\n",
      " (3, 'Steven', 'Baranco', 'EN1-35'),\n",
      " (4, 'Elizabeth', 'Roslyn', 'EN1-36'),\n",
      " (5, 'Carol', 'Schaaf', 'EN1-38'),\n",
      " (6, 'Alexandra', 'Wing', 'EN1-40')]\n",
      "{'EN1-26': 1, 'EN1-33': 2, 'EN1-35': 3, 'EN1-36': 4, 'EN1-38': 5, 'EN1-40': 6}\n"
     ]
    }
   ],
   "source": [
    "cur.execute(\"select * from employees\")\n",
    "employees = cur.fetchall()\n",
    "pprint(employees)\n",
    "\n",
    "employees_dict = {r[3]:r[0] for r in employees}\n",
    "pprint(employees_dict)"
   ]
  },
  {
   "cell_type": "code",
   "execution_count": 12,
   "id": "05cc402a",
   "metadata": {
    "pycharm": {
     "name": "#%%\n"
    }
   },
   "outputs": [],
   "source": [
    "# populate project\n",
    "projects = []\n",
    "\n",
    "for _, _, m_projects,_ in original_table:\n",
    "    for project in m_projects.split(\",\"):\n",
    "        projects.append(project.strip())\n",
    "projects = sorted(list(set(projects)))\n",
    "\n",
    "for project in projects:\n",
    "    cur.execute(\"INSERT INTO projects (project_id) VALUES (?)\",\n",
    "                (project,))"
   ]
  },
  {
   "cell_type": "code",
   "execution_count": 13,
   "id": "5b4d895d",
   "metadata": {
    "pycharm": {
     "name": "#%%\n"
    }
   },
   "outputs": [
    {
     "name": "stdout",
     "output_type": "stream",
     "text": [
      "[(1, '30-382-TC'),\n",
      " (2, '30-452-T3'),\n",
      " (3, '30-457-T3'),\n",
      " (4, '31-238-TC'),\n",
      " (5, '31-241-TC'),\n",
      " (6, '32-244-T3'),\n",
      " (7, '35-152-TC'),\n",
      " (8, '36-272-TC')]\n",
      "{'30-382-TC': 1,\n",
      " '30-452-T3': 2,\n",
      " '30-457-T3': 3,\n",
      " '31-238-TC': 4,\n",
      " '31-241-TC': 5,\n",
      " '32-244-T3': 6,\n",
      " '35-152-TC': 7,\n",
      " '36-272-TC': 8}\n"
     ]
    }
   ],
   "source": [
    "cur.execute(\"select * from projects\")\n",
    "projects = cur.fetchall()\n",
    "pprint(projects)\n",
    "\n",
    "projects_dict = {r[1]:r[0] for r in projects}\n",
    "pprint(projects_dict)"
   ]
  },
  {
   "cell_type": "code",
   "execution_count": 14,
   "id": "71acc609",
   "metadata": {
    "pycharm": {
     "name": "#%%\n"
    }
   },
   "outputs": [],
   "source": [
    "# populate employees_projects_time\n",
    "for employee_id, name, m_projects,m_times in original_table:\n",
    "    for projec_id,m_time in zip(m_projects.split(\",\"),m_times.split(\",\")):\n",
    "        project_id=projec_id.strip()\n",
    "        m_time=m_time.strip()\n",
    "\n",
    "        #print(employee_id,project_id,m_time)\n",
    "\n",
    "        cur.execute(\"INSERT INTO employees_projects_time (project_db_id,employee_db_id,[time]) VALUES (?,?,?)\",\n",
    "                    (projects_dict[project_id],employees_dict[employee_id],m_time))"
   ]
  },
  {
   "cell_type": "code",
   "execution_count": null,
   "id": "c42234bc",
   "metadata": {
    "pycharm": {
     "name": "#%%\n"
    }
   },
   "outputs": [],
   "source": []
  },
  {
   "cell_type": "code",
   "execution_count": 15,
   "id": "7d0418bc",
   "metadata": {
    "pycharm": {
     "name": "#%%\n"
    }
   },
   "outputs": [
    {
     "name": "stdout",
     "output_type": "stream",
     "text": [
      "Table: employees\n"
     ]
    },
    {
     "data": {
      "text/html": [
       "<div>\n",
       "<style scoped>\n",
       "    .dataframe tbody tr th:only-of-type {\n",
       "        vertical-align: middle;\n",
       "    }\n",
       "\n",
       "    .dataframe tbody tr th {\n",
       "        vertical-align: top;\n",
       "    }\n",
       "\n",
       "    .dataframe thead th {\n",
       "        text-align: right;\n",
       "    }\n",
       "</style>\n",
       "<table border=\"1\" class=\"dataframe\">\n",
       "  <thead>\n",
       "    <tr style=\"text-align: right;\">\n",
       "      <th></th>\n",
       "      <th>employee_db_id</th>\n",
       "      <th>first_name</th>\n",
       "      <th>last_name</th>\n",
       "      <th>employee_id</th>\n",
       "    </tr>\n",
       "  </thead>\n",
       "  <tbody>\n",
       "    <tr>\n",
       "      <th>0</th>\n",
       "      <td>1</td>\n",
       "      <td>Sean</td>\n",
       "      <td>O'Brien</td>\n",
       "      <td>EN1-26</td>\n",
       "    </tr>\n",
       "    <tr>\n",
       "      <th>1</th>\n",
       "      <td>2</td>\n",
       "      <td>Amy</td>\n",
       "      <td>Guya</td>\n",
       "      <td>EN1-33</td>\n",
       "    </tr>\n",
       "    <tr>\n",
       "      <th>2</th>\n",
       "      <td>3</td>\n",
       "      <td>Steven</td>\n",
       "      <td>Baranco</td>\n",
       "      <td>EN1-35</td>\n",
       "    </tr>\n",
       "    <tr>\n",
       "      <th>3</th>\n",
       "      <td>4</td>\n",
       "      <td>Elizabeth</td>\n",
       "      <td>Roslyn</td>\n",
       "      <td>EN1-36</td>\n",
       "    </tr>\n",
       "    <tr>\n",
       "      <th>4</th>\n",
       "      <td>5</td>\n",
       "      <td>Carol</td>\n",
       "      <td>Schaaf</td>\n",
       "      <td>EN1-38</td>\n",
       "    </tr>\n",
       "    <tr>\n",
       "      <th>5</th>\n",
       "      <td>6</td>\n",
       "      <td>Alexandra</td>\n",
       "      <td>Wing</td>\n",
       "      <td>EN1-40</td>\n",
       "    </tr>\n",
       "  </tbody>\n",
       "</table>\n",
       "</div>"
      ],
      "text/plain": [
       "   employee_db_id first_name last_name employee_id\n",
       "0               1       Sean   O'Brien      EN1-26\n",
       "1               2        Amy      Guya      EN1-33\n",
       "2               3     Steven   Baranco      EN1-35\n",
       "3               4  Elizabeth    Roslyn      EN1-36\n",
       "4               5      Carol    Schaaf      EN1-38\n",
       "5               6  Alexandra      Wing      EN1-40"
      ]
     },
     "metadata": {},
     "output_type": "display_data"
    },
    {
     "name": "stdout",
     "output_type": "stream",
     "text": [
      "Table: projects\n"
     ]
    },
    {
     "data": {
      "text/html": [
       "<div>\n",
       "<style scoped>\n",
       "    .dataframe tbody tr th:only-of-type {\n",
       "        vertical-align: middle;\n",
       "    }\n",
       "\n",
       "    .dataframe tbody tr th {\n",
       "        vertical-align: top;\n",
       "    }\n",
       "\n",
       "    .dataframe thead th {\n",
       "        text-align: right;\n",
       "    }\n",
       "</style>\n",
       "<table border=\"1\" class=\"dataframe\">\n",
       "  <thead>\n",
       "    <tr style=\"text-align: right;\">\n",
       "      <th></th>\n",
       "      <th>project_db_id</th>\n",
       "      <th>project_id</th>\n",
       "    </tr>\n",
       "  </thead>\n",
       "  <tbody>\n",
       "    <tr>\n",
       "      <th>0</th>\n",
       "      <td>1</td>\n",
       "      <td>30-382-TC</td>\n",
       "    </tr>\n",
       "    <tr>\n",
       "      <th>1</th>\n",
       "      <td>2</td>\n",
       "      <td>30-452-T3</td>\n",
       "    </tr>\n",
       "    <tr>\n",
       "      <th>2</th>\n",
       "      <td>3</td>\n",
       "      <td>30-457-T3</td>\n",
       "    </tr>\n",
       "    <tr>\n",
       "      <th>3</th>\n",
       "      <td>4</td>\n",
       "      <td>31-238-TC</td>\n",
       "    </tr>\n",
       "    <tr>\n",
       "      <th>4</th>\n",
       "      <td>5</td>\n",
       "      <td>31-241-TC</td>\n",
       "    </tr>\n",
       "    <tr>\n",
       "      <th>5</th>\n",
       "      <td>6</td>\n",
       "      <td>32-244-T3</td>\n",
       "    </tr>\n",
       "    <tr>\n",
       "      <th>6</th>\n",
       "      <td>7</td>\n",
       "      <td>35-152-TC</td>\n",
       "    </tr>\n",
       "    <tr>\n",
       "      <th>7</th>\n",
       "      <td>8</td>\n",
       "      <td>36-272-TC</td>\n",
       "    </tr>\n",
       "  </tbody>\n",
       "</table>\n",
       "</div>"
      ],
      "text/plain": [
       "   project_db_id project_id\n",
       "0              1  30-382-TC\n",
       "1              2  30-452-T3\n",
       "2              3  30-457-T3\n",
       "3              4  31-238-TC\n",
       "4              5  31-241-TC\n",
       "5              6  32-244-T3\n",
       "6              7  35-152-TC\n",
       "7              8  36-272-TC"
      ]
     },
     "metadata": {},
     "output_type": "display_data"
    },
    {
     "name": "stdout",
     "output_type": "stream",
     "text": [
      "Table: employees_projects_time\n"
     ]
    },
    {
     "data": {
      "text/html": [
       "<div>\n",
       "<style scoped>\n",
       "    .dataframe tbody tr th:only-of-type {\n",
       "        vertical-align: middle;\n",
       "    }\n",
       "\n",
       "    .dataframe tbody tr th {\n",
       "        vertical-align: top;\n",
       "    }\n",
       "\n",
       "    .dataframe thead th {\n",
       "        text-align: right;\n",
       "    }\n",
       "</style>\n",
       "<table border=\"1\" class=\"dataframe\">\n",
       "  <thead>\n",
       "    <tr style=\"text-align: right;\">\n",
       "      <th></th>\n",
       "      <th>employees_projects_time_id</th>\n",
       "      <th>project_db_id</th>\n",
       "      <th>employee_db_id</th>\n",
       "      <th>time</th>\n",
       "    </tr>\n",
       "  </thead>\n",
       "  <tbody>\n",
       "    <tr>\n",
       "      <th>0</th>\n",
       "      <td>1</td>\n",
       "      <td>2</td>\n",
       "      <td>1</td>\n",
       "      <td>0.25</td>\n",
       "    </tr>\n",
       "    <tr>\n",
       "      <th>1</th>\n",
       "      <td>2</td>\n",
       "      <td>3</td>\n",
       "      <td>1</td>\n",
       "      <td>0.40</td>\n",
       "    </tr>\n",
       "    <tr>\n",
       "      <th>2</th>\n",
       "      <td>3</td>\n",
       "      <td>6</td>\n",
       "      <td>1</td>\n",
       "      <td>0.30</td>\n",
       "    </tr>\n",
       "    <tr>\n",
       "      <th>3</th>\n",
       "      <td>4</td>\n",
       "      <td>2</td>\n",
       "      <td>2</td>\n",
       "      <td>0.05</td>\n",
       "    </tr>\n",
       "    <tr>\n",
       "      <th>4</th>\n",
       "      <td>5</td>\n",
       "      <td>1</td>\n",
       "      <td>2</td>\n",
       "      <td>0.35</td>\n",
       "    </tr>\n",
       "    <tr>\n",
       "      <th>5</th>\n",
       "      <td>6</td>\n",
       "      <td>6</td>\n",
       "      <td>2</td>\n",
       "      <td>0.60</td>\n",
       "    </tr>\n",
       "    <tr>\n",
       "      <th>6</th>\n",
       "      <td>7</td>\n",
       "      <td>2</td>\n",
       "      <td>3</td>\n",
       "      <td>0.15</td>\n",
       "    </tr>\n",
       "    <tr>\n",
       "      <th>7</th>\n",
       "      <td>8</td>\n",
       "      <td>4</td>\n",
       "      <td>3</td>\n",
       "      <td>0.80</td>\n",
       "    </tr>\n",
       "    <tr>\n",
       "      <th>8</th>\n",
       "      <td>9</td>\n",
       "      <td>7</td>\n",
       "      <td>4</td>\n",
       "      <td>0.90</td>\n",
       "    </tr>\n",
       "    <tr>\n",
       "      <th>9</th>\n",
       "      <td>10</td>\n",
       "      <td>8</td>\n",
       "      <td>5</td>\n",
       "      <td>0.75</td>\n",
       "    </tr>\n",
       "    <tr>\n",
       "      <th>10</th>\n",
       "      <td>11</td>\n",
       "      <td>4</td>\n",
       "      <td>6</td>\n",
       "      <td>0.20</td>\n",
       "    </tr>\n",
       "    <tr>\n",
       "      <th>11</th>\n",
       "      <td>12</td>\n",
       "      <td>5</td>\n",
       "      <td>6</td>\n",
       "      <td>0.70</td>\n",
       "    </tr>\n",
       "  </tbody>\n",
       "</table>\n",
       "</div>"
      ],
      "text/plain": [
       "    employees_projects_time_id  project_db_id  employee_db_id  time\n",
       "0                            1              2               1  0.25\n",
       "1                            2              3               1  0.40\n",
       "2                            3              6               1  0.30\n",
       "3                            4              2               2  0.05\n",
       "4                            5              1               2  0.35\n",
       "5                            6              6               2  0.60\n",
       "6                            7              2               3  0.15\n",
       "7                            8              4               3  0.80\n",
       "8                            9              7               4  0.90\n",
       "9                           10              8               5  0.75\n",
       "10                          11              4               6  0.20\n",
       "11                          12              5               6  0.70"
      ]
     },
     "metadata": {},
     "output_type": "display_data"
    }
   ],
   "source": [
    "def show_table(conn, table):\n",
    "    \"\"\"\n",
    "    Helping function to displays whole table\n",
    "    \"\"\"\n",
    "    print(f\"Table: {table}\")\n",
    "    df = pandas.read_sql_query(f\"select * FROM {table};\", conn)\n",
    "    display(df)\n",
    "\n",
    "show_table(conn, \"employees\")\n",
    "show_table(conn, \"projects\")\n",
    "show_table(conn, \"employees_projects_time\")"
   ]
  },
  {
   "cell_type": "code",
   "execution_count": 21,
   "id": "200728ac",
   "metadata": {
    "pycharm": {
     "name": "#%%\n"
    }
   },
   "outputs": [
    {
     "data": {
      "text/html": [
       "<div>\n",
       "<style scoped>\n",
       "    .dataframe tbody tr th:only-of-type {\n",
       "        vertical-align: middle;\n",
       "    }\n",
       "\n",
       "    .dataframe tbody tr th {\n",
       "        vertical-align: top;\n",
       "    }\n",
       "\n",
       "    .dataframe thead th {\n",
       "        text-align: right;\n",
       "    }\n",
       "</style>\n",
       "<table border=\"1\" class=\"dataframe\">\n",
       "  <thead>\n",
       "    <tr style=\"text-align: right;\">\n",
       "      <th></th>\n",
       "      <th>employees_projects_time_id</th>\n",
       "      <th>project_db_id</th>\n",
       "      <th>employee_db_id</th>\n",
       "      <th>time</th>\n",
       "      <th>employee_db_id</th>\n",
       "      <th>first_name</th>\n",
       "      <th>last_name</th>\n",
       "      <th>employee_id</th>\n",
       "      <th>project_db_id</th>\n",
       "      <th>project_id</th>\n",
       "    </tr>\n",
       "  </thead>\n",
       "  <tbody>\n",
       "    <tr>\n",
       "      <th>0</th>\n",
       "      <td>1</td>\n",
       "      <td>2</td>\n",
       "      <td>1</td>\n",
       "      <td>0.25</td>\n",
       "      <td>1</td>\n",
       "      <td>Sean</td>\n",
       "      <td>O'Brien</td>\n",
       "      <td>EN1-26</td>\n",
       "      <td>1</td>\n",
       "      <td>30-382-TC</td>\n",
       "    </tr>\n",
       "    <tr>\n",
       "      <th>1</th>\n",
       "      <td>1</td>\n",
       "      <td>2</td>\n",
       "      <td>1</td>\n",
       "      <td>0.25</td>\n",
       "      <td>1</td>\n",
       "      <td>Sean</td>\n",
       "      <td>O'Brien</td>\n",
       "      <td>EN1-26</td>\n",
       "      <td>2</td>\n",
       "      <td>30-452-T3</td>\n",
       "    </tr>\n",
       "    <tr>\n",
       "      <th>2</th>\n",
       "      <td>1</td>\n",
       "      <td>2</td>\n",
       "      <td>1</td>\n",
       "      <td>0.25</td>\n",
       "      <td>1</td>\n",
       "      <td>Sean</td>\n",
       "      <td>O'Brien</td>\n",
       "      <td>EN1-26</td>\n",
       "      <td>3</td>\n",
       "      <td>30-457-T3</td>\n",
       "    </tr>\n",
       "    <tr>\n",
       "      <th>3</th>\n",
       "      <td>1</td>\n",
       "      <td>2</td>\n",
       "      <td>1</td>\n",
       "      <td>0.25</td>\n",
       "      <td>1</td>\n",
       "      <td>Sean</td>\n",
       "      <td>O'Brien</td>\n",
       "      <td>EN1-26</td>\n",
       "      <td>4</td>\n",
       "      <td>31-238-TC</td>\n",
       "    </tr>\n",
       "    <tr>\n",
       "      <th>4</th>\n",
       "      <td>1</td>\n",
       "      <td>2</td>\n",
       "      <td>1</td>\n",
       "      <td>0.25</td>\n",
       "      <td>1</td>\n",
       "      <td>Sean</td>\n",
       "      <td>O'Brien</td>\n",
       "      <td>EN1-26</td>\n",
       "      <td>5</td>\n",
       "      <td>31-241-TC</td>\n",
       "    </tr>\n",
       "    <tr>\n",
       "      <th>...</th>\n",
       "      <td>...</td>\n",
       "      <td>...</td>\n",
       "      <td>...</td>\n",
       "      <td>...</td>\n",
       "      <td>...</td>\n",
       "      <td>...</td>\n",
       "      <td>...</td>\n",
       "      <td>...</td>\n",
       "      <td>...</td>\n",
       "      <td>...</td>\n",
       "    </tr>\n",
       "    <tr>\n",
       "      <th>91</th>\n",
       "      <td>12</td>\n",
       "      <td>5</td>\n",
       "      <td>6</td>\n",
       "      <td>0.70</td>\n",
       "      <td>6</td>\n",
       "      <td>Alexandra</td>\n",
       "      <td>Wing</td>\n",
       "      <td>EN1-40</td>\n",
       "      <td>4</td>\n",
       "      <td>31-238-TC</td>\n",
       "    </tr>\n",
       "    <tr>\n",
       "      <th>92</th>\n",
       "      <td>12</td>\n",
       "      <td>5</td>\n",
       "      <td>6</td>\n",
       "      <td>0.70</td>\n",
       "      <td>6</td>\n",
       "      <td>Alexandra</td>\n",
       "      <td>Wing</td>\n",
       "      <td>EN1-40</td>\n",
       "      <td>5</td>\n",
       "      <td>31-241-TC</td>\n",
       "    </tr>\n",
       "    <tr>\n",
       "      <th>93</th>\n",
       "      <td>12</td>\n",
       "      <td>5</td>\n",
       "      <td>6</td>\n",
       "      <td>0.70</td>\n",
       "      <td>6</td>\n",
       "      <td>Alexandra</td>\n",
       "      <td>Wing</td>\n",
       "      <td>EN1-40</td>\n",
       "      <td>6</td>\n",
       "      <td>32-244-T3</td>\n",
       "    </tr>\n",
       "    <tr>\n",
       "      <th>94</th>\n",
       "      <td>12</td>\n",
       "      <td>5</td>\n",
       "      <td>6</td>\n",
       "      <td>0.70</td>\n",
       "      <td>6</td>\n",
       "      <td>Alexandra</td>\n",
       "      <td>Wing</td>\n",
       "      <td>EN1-40</td>\n",
       "      <td>7</td>\n",
       "      <td>35-152-TC</td>\n",
       "    </tr>\n",
       "    <tr>\n",
       "      <th>95</th>\n",
       "      <td>12</td>\n",
       "      <td>5</td>\n",
       "      <td>6</td>\n",
       "      <td>0.70</td>\n",
       "      <td>6</td>\n",
       "      <td>Alexandra</td>\n",
       "      <td>Wing</td>\n",
       "      <td>EN1-40</td>\n",
       "      <td>8</td>\n",
       "      <td>36-272-TC</td>\n",
       "    </tr>\n",
       "  </tbody>\n",
       "</table>\n",
       "<p>96 rows × 10 columns</p>\n",
       "</div>"
      ],
      "text/plain": [
       "    employees_projects_time_id  project_db_id  employee_db_id  time  \\\n",
       "0                            1              2               1  0.25   \n",
       "1                            1              2               1  0.25   \n",
       "2                            1              2               1  0.25   \n",
       "3                            1              2               1  0.25   \n",
       "4                            1              2               1  0.25   \n",
       "..                         ...            ...             ...   ...   \n",
       "91                          12              5               6  0.70   \n",
       "92                          12              5               6  0.70   \n",
       "93                          12              5               6  0.70   \n",
       "94                          12              5               6  0.70   \n",
       "95                          12              5               6  0.70   \n",
       "\n",
       "    employee_db_id first_name last_name employee_id  project_db_id project_id  \n",
       "0                1       Sean   O'Brien      EN1-26              1  30-382-TC  \n",
       "1                1       Sean   O'Brien      EN1-26              2  30-452-T3  \n",
       "2                1       Sean   O'Brien      EN1-26              3  30-457-T3  \n",
       "3                1       Sean   O'Brien      EN1-26              4  31-238-TC  \n",
       "4                1       Sean   O'Brien      EN1-26              5  31-241-TC  \n",
       "..             ...        ...       ...         ...            ...        ...  \n",
       "91               6  Alexandra      Wing      EN1-40              4  31-238-TC  \n",
       "92               6  Alexandra      Wing      EN1-40              5  31-241-TC  \n",
       "93               6  Alexandra      Wing      EN1-40              6  32-244-T3  \n",
       "94               6  Alexandra      Wing      EN1-40              7  35-152-TC  \n",
       "95               6  Alexandra      Wing      EN1-40              8  36-272-TC  \n",
       "\n",
       "[96 rows x 10 columns]"
      ]
     },
     "metadata": {},
     "output_type": "display_data"
    }
   ],
   "source": [
    "df = pandas.read_sql_query(\"\"\"\n",
    "    SELECT * FROM employees_projects_time\n",
    "    INNER JOIN employees on employees.employee_db_id = employees_projects_time.employee_db_id\n",
    "    INNER JOIN projects on projects.project_db_id = projects.project_db_id\n",
    "\"\"\", conn)\n",
    "display(df)"
   ]
  },
  {
   "cell_type": "code",
   "execution_count": 22,
   "id": "0e770920",
   "metadata": {
    "pycharm": {
     "name": "#%%\n"
    }
   },
   "outputs": [
    {
     "data": {
      "text/html": [
       "<div>\n",
       "<style scoped>\n",
       "    .dataframe tbody tr th:only-of-type {\n",
       "        vertical-align: middle;\n",
       "    }\n",
       "\n",
       "    .dataframe tbody tr th {\n",
       "        vertical-align: top;\n",
       "    }\n",
       "\n",
       "    .dataframe thead th {\n",
       "        text-align: right;\n",
       "    }\n",
       "</style>\n",
       "<table border=\"1\" class=\"dataframe\">\n",
       "  <thead>\n",
       "    <tr style=\"text-align: right;\">\n",
       "      <th></th>\n",
       "      <th>first_name</th>\n",
       "      <th>last_name</th>\n",
       "      <th>employee_id</th>\n",
       "      <th>project_id</th>\n",
       "    </tr>\n",
       "  </thead>\n",
       "  <tbody>\n",
       "    <tr>\n",
       "      <th>0</th>\n",
       "      <td>Amy</td>\n",
       "      <td>Guya</td>\n",
       "      <td>EN1-33</td>\n",
       "      <td>30-382-TC</td>\n",
       "    </tr>\n",
       "    <tr>\n",
       "      <th>1</th>\n",
       "      <td>Amy</td>\n",
       "      <td>Guya</td>\n",
       "      <td>EN1-33</td>\n",
       "      <td>30-452-T3</td>\n",
       "    </tr>\n",
       "    <tr>\n",
       "      <th>2</th>\n",
       "      <td>Amy</td>\n",
       "      <td>Guya</td>\n",
       "      <td>EN1-33</td>\n",
       "      <td>30-457-T3</td>\n",
       "    </tr>\n",
       "    <tr>\n",
       "      <th>3</th>\n",
       "      <td>Amy</td>\n",
       "      <td>Guya</td>\n",
       "      <td>EN1-33</td>\n",
       "      <td>31-238-TC</td>\n",
       "    </tr>\n",
       "    <tr>\n",
       "      <th>4</th>\n",
       "      <td>Amy</td>\n",
       "      <td>Guya</td>\n",
       "      <td>EN1-33</td>\n",
       "      <td>31-241-TC</td>\n",
       "    </tr>\n",
       "    <tr>\n",
       "      <th>...</th>\n",
       "      <td>...</td>\n",
       "      <td>...</td>\n",
       "      <td>...</td>\n",
       "      <td>...</td>\n",
       "    </tr>\n",
       "    <tr>\n",
       "      <th>91</th>\n",
       "      <td>Carol</td>\n",
       "      <td>Schaaf</td>\n",
       "      <td>EN1-38</td>\n",
       "      <td>31-238-TC</td>\n",
       "    </tr>\n",
       "    <tr>\n",
       "      <th>92</th>\n",
       "      <td>Carol</td>\n",
       "      <td>Schaaf</td>\n",
       "      <td>EN1-38</td>\n",
       "      <td>31-241-TC</td>\n",
       "    </tr>\n",
       "    <tr>\n",
       "      <th>93</th>\n",
       "      <td>Carol</td>\n",
       "      <td>Schaaf</td>\n",
       "      <td>EN1-38</td>\n",
       "      <td>32-244-T3</td>\n",
       "    </tr>\n",
       "    <tr>\n",
       "      <th>94</th>\n",
       "      <td>Carol</td>\n",
       "      <td>Schaaf</td>\n",
       "      <td>EN1-38</td>\n",
       "      <td>35-152-TC</td>\n",
       "    </tr>\n",
       "    <tr>\n",
       "      <th>95</th>\n",
       "      <td>Carol</td>\n",
       "      <td>Schaaf</td>\n",
       "      <td>EN1-38</td>\n",
       "      <td>36-272-TC</td>\n",
       "    </tr>\n",
       "  </tbody>\n",
       "</table>\n",
       "<p>96 rows × 4 columns</p>\n",
       "</div>"
      ],
      "text/plain": [
       "   first_name last_name employee_id project_id\n",
       "0         Amy      Guya      EN1-33  30-382-TC\n",
       "1         Amy      Guya      EN1-33  30-452-T3\n",
       "2         Amy      Guya      EN1-33  30-457-T3\n",
       "3         Amy      Guya      EN1-33  31-238-TC\n",
       "4         Amy      Guya      EN1-33  31-241-TC\n",
       "..        ...       ...         ...        ...\n",
       "91      Carol    Schaaf      EN1-38  31-238-TC\n",
       "92      Carol    Schaaf      EN1-38  31-241-TC\n",
       "93      Carol    Schaaf      EN1-38  32-244-T3\n",
       "94      Carol    Schaaf      EN1-38  35-152-TC\n",
       "95      Carol    Schaaf      EN1-38  36-272-TC\n",
       "\n",
       "[96 rows x 4 columns]"
      ]
     },
     "metadata": {},
     "output_type": "display_data"
    }
   ],
   "source": [
    "df = pandas.read_sql_query(\"\"\"\n",
    "    SELECT first_name,last_name,employee_id,project_id FROM employees_projects_time\n",
    "    INNER JOIN employees on employees.employee_db_id = employees_projects_time.employee_db_id\n",
    "    INNER JOIN projects on projects.project_db_id = projects.project_db_id\n",
    "\"\"\", conn)\n",
    "display(df)"
   ]
  },
  {
   "cell_type": "markdown",
   "id": "ba5ea72a",
   "metadata": {
    "pycharm": {
     "name": "#%% md\n"
    }
   },
   "source": []
  }
 ],
 "metadata": {
  "kernelspec": {
   "display_name": "Python 3 (ipykernel)",
   "language": "python",
   "name": "python3"
  },
  "language_info": {
   "codemirror_mode": {
    "name": "ipython",
    "version": 3
   },
   "file_extension": ".py",
   "mimetype": "text/x-python",
   "name": "python",
   "nbconvert_exporter": "python",
   "pygments_lexer": "ipython3",
   "version": "3.9.7"
  }
 },
 "nbformat": 4,
 "nbformat_minor": 5
}
