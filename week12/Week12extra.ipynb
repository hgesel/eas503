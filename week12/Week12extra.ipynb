{
 "cells": [
  {
   "cell_type": "markdown",
   "id": "45b5fa3b",
   "metadata": {},
   "source": [
    "# Productivity\n",
    "\n",
    "## Keyboard Shortcut\n",
    "\n",
    "Jupyter Notebook has two modes:\n",
    "* command mode, the cursor is not blinking or not visible\n",
    "* edit mode, the cursor is blinking (hit `Esc` to exit)\n",
    "\n",
    "Keyboard Shortcut both modes:\n",
    "* `Shift + Enter` run the current cell, select below\n",
    "* `Ctrl + Enter` run selected cells\n",
    "* `Ctrl + S` save and checkpoint\n",
    "  * `Alt + Enter` run the current cell, insert below\n",
    "\n",
    "Edit mode (press `Enter`, click or double-click to activate):\n",
    "* `Esc` take you into command mode\n",
    "* `Tab` code completion or indent\n",
    "* `Shift + Tab` tooltip or decriment\n",
    "\n",
    "Command mode (press `Esc` to activate):\n",
    "\n",
    "* `A` insert cell above\n",
    "* `B` insert cell below\n",
    "* `D, D` (press the key twice) delete selected cells\n",
    "    * `Y` change the cell type to Code\n",
    "    * `M` change the cell type to Markdown\n",
    "\n",
    "* H show all shortcuts\n",
    "    * `X` cut selected cells\n",
    "    * `C` copy selected cells\n",
    "    * `V` paste cells below\n",
    "    * `Shift + V` paste cells above\n",
    "    * `Z` undo cell deletion\n",
    "    * `S` Save and Checkpoint\n"
   ]
  },
  {
   "cell_type": "code",
   "execution_count": null,
   "id": "36dd3057",
   "metadata": {},
   "outputs": [],
   "source": []
  }
 ],
 "metadata": {
  "kernelspec": {
   "display_name": "Python 3 (ipykernel)",
   "language": "python",
   "name": "python3"
  },
  "language_info": {
   "codemirror_mode": {
    "name": "ipython",
    "version": 3
   },
   "file_extension": ".py",
   "mimetype": "text/x-python",
   "name": "python",
   "nbconvert_exporter": "python",
   "pygments_lexer": "ipython3",
   "version": "3.9.7"
  }
 },
 "nbformat": 4,
 "nbformat_minor": 5
}
