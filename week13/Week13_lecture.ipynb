{
 "cells": [
  {
   "cell_type": "markdown",
   "metadata": {
    "pycharm": {
     "name": "#%% md\n"
    }
   },
   "source": [
    "# Week 13. Visualization: Visualization (matplotlib, seaborn, plotly)\n",
    "\n",
    "matplotlib\n",
    "* https://matplotlib.org/\n",
    "* follows MATLAB plotting strategy\n",
    "* large range of plots\n",
    "* pandas integrates with it\n",
    "* sometimes lots of coding to get the plot you want\n",
    "\n",
    "seaborn\n",
    "* https://seaborn.pydata.org/\n",
    "* extends matplotlib with formatting and more plotting capabilities\n",
    "* favour fast data exploratory plotting\n",
    "\n",
    "plotly\n",
    "* https://plotly.com/python/\n",
    "* interactive plot\n",
    "\n",
    "All libraries contains large collection of samples, choose one and adopt to your need."
   ]
  },
  {
   "cell_type": "markdown",
   "metadata": {},
   "source": [
    "# matplotlib\n",
    "\n",
    "* Figure - a.k.a. the **whole** figure, top object everything is drawn on it. Contains one or more axis.\n",
    "* Axes - that where the plot is drawn. \n",
    "* Axis - 'number line'\n",
    "* Artists - any drawable object\n",
    "\n",
    "![figure_anatomy](anatomy.png)\n",
    "\n",
    "Two ways of using\n",
    "* Object oriented API\n",
    "* Pyplot API (MATLAB-like)\n",
    "\n",
    "Can be mixed.\n",
    "\n",
    "\n",
    "General plotting strategy\n",
    "\n",
    "```python\n",
    "\n",
    "# get you data in proper format\n",
    "\n",
    "# setup figure and axes\n",
    "\n",
    "# plot your data\n",
    "\n",
    "# add more attributes like title and labels\n",
    "\n",
    "# show the plot (done automatically in most cases)\n",
    "```\n",
    "\n",
    "Jupyter magic function:\n",
    "* %matplotlib inline - make a plot in a cell (set globally)\n",
    "* %matplotlib notebook - interactive plots (have to be placed in each plotting cell)\n",
    "* %matplotlib widget - interactive plots (alternative to notebook)\n"
   ]
  },
  {
   "cell_type": "code",
   "execution_count": null,
   "metadata": {},
   "outputs": [],
   "source": [
    "# get you data in proper format\n",
    "x = list(range(10))\n",
    "y = [ele*ele for ele in x]\n",
    "\n",
    "# or\n",
    "\n",
    "import numpy as np\n",
    "x = np.arange(0,10,1)\n",
    "y=x*x\n",
    "\n",
    "print(x)\n",
    "print(y)\n"
   ]
  },
  {
   "cell_type": "code",
   "execution_count": null,
   "metadata": {},
   "outputs": [],
   "source": [
    "# import and setup matplotlib\n",
    "import matplotlib.pyplot as plt\n",
    "\n",
    "\n",
    "#import seaborn as sns\n",
    "#sns.set_theme(style=\"white\")\n",
    "\n",
    "plt.style.use('default')\n",
    "\n",
    "%matplotlib inline"
   ]
  },
  {
   "cell_type": "code",
   "execution_count": null,
   "metadata": {},
   "outputs": [],
   "source": [
    "# plot OO way\n",
    "fig, ax = plt.subplots()  # Create a figure containing a single axes.\n",
    "ax.plot(x, y)  # Plot some data on the axes."
   ]
  },
  {
   "cell_type": "code",
   "execution_count": null,
   "metadata": {
    "scrolled": true
   },
   "outputs": [],
   "source": [
    "# plot pyplot way\n",
    "plt.plot(x, y)  "
   ]
  },
  {
   "cell_type": "markdown",
   "metadata": {},
   "source": [
    "## Method 1. Pyplot API "
   ]
  },
  {
   "cell_type": "code",
   "execution_count": null,
   "metadata": {
    "scrolled": true
   },
   "outputs": [],
   "source": [
    "plt.plot(x,y, 'r--')"
   ]
  },
  {
   "cell_type": "code",
   "execution_count": null,
   "metadata": {},
   "outputs": [],
   "source": [
    "plt.plot(x,y,          \n",
    "         linewidth=4,\n",
    "         linestyle='-',\n",
    "         color='tab:red',\n",
    "         marker='.',\n",
    "         markersize=15,\n",
    "         markeredgewidth=1,\n",
    "         markeredgecolor='blue',\n",
    "         markerfacecolor='black',\n",
    ")"
   ]
  },
  {
   "cell_type": "code",
   "execution_count": null,
   "metadata": {},
   "outputs": [],
   "source": [
    "# Shortcut for controlling the line style and color\n",
    "# plt.plot(x,y, 'y--')\n",
    "# https://matplotlib.org/stable/api/_as_gen/matplotlib.axes.Axes.plot.html\n",
    "\n",
    "plt.plot(x,y,          \n",
    "         linewidth=1,\n",
    "         linestyle='--',\n",
    "         color='red',\n",
    "         marker='o',\n",
    "         markersize=15,\n",
    "         markeredgewidth=3,\n",
    "         markeredgecolor='blue',\n",
    "         markerfacecolor='black',\n",
    "         fillstyle='left')\n"
   ]
  },
  {
   "cell_type": "code",
   "execution_count": null,
   "metadata": {},
   "outputs": [],
   "source": [
    "# Adding labels and titles\n",
    "plt.plot(x,y)\n",
    "plt.plot(x,x, 'r')\n",
    "plt.xlabel('X Label')\n",
    "plt.ylabel('Y Label')\n",
    "plt.title('Title')\n",
    "plt.legend(['ABCD', 'EFGH'], loc='best')"
   ]
  },
  {
   "cell_type": "code",
   "execution_count": null,
   "metadata": {},
   "outputs": [],
   "source": [
    "# Adding labels and titles\n",
    "plt.plot(x,y, label=\"ABCD\")\n",
    "plt.plot(x,x, 'r', label=\"EFGH\")\n",
    "plt.xlabel('X Label')\n",
    "plt.ylabel('Y Label')\n",
    "plt.title('Title')\n",
    "plt.legend(loc='best')"
   ]
  },
  {
   "cell_type": "code",
   "execution_count": null,
   "metadata": {},
   "outputs": [],
   "source": [
    "# Subplots -- have multiple plots\n",
    "plt.subplot(1,2,1)\n",
    "plt.plot(x,y)\n",
    "plt.xlabel('X Label')\n",
    "plt.ylabel('Y Label')\n",
    "plt.title('Title 1')\n",
    "\n",
    "plt.subplot(1,2,2)\n",
    "plt.plot(x,y, '--r')\n",
    "plt.xlabel('X Label')\n",
    "plt.ylabel('Y Label')\n",
    "plt.title('Title 2')"
   ]
  },
  {
   "cell_type": "code",
   "execution_count": null,
   "metadata": {},
   "outputs": [],
   "source": [
    "# OO way\n",
    "fig,(ax1,ax2)=plt.subplots(1,2)\n",
    "ax1.plot(x,y)\n",
    "ax1.set_xlabel('X Label')\n",
    "ax1.set_ylabel('Y Label')\n",
    "ax1.set_title('Title 1')\n",
    "\n",
    "ax2.plot(x,y, '--r')\n",
    "ax2.set_xlabel('X Label')\n",
    "ax2.set_ylabel('Y Label')\n",
    "ax2.set_title('Title 2')"
   ]
  },
  {
   "cell_type": "code",
   "execution_count": null,
   "metadata": {},
   "outputs": [],
   "source": [
    "# Subplots -- have multiple plots\n",
    "plt.subplot(2,1,1)\n",
    "plt.plot(x,y)\n",
    "plt.xlabel('X Label')\n",
    "plt.ylabel('Y Label')\n",
    "plt.title('1')\n",
    "\n",
    "plt.subplot(2,1,2)\n",
    "plt.plot(x,y, 'r')\n",
    "plt.xlabel('X Label')\n",
    "plt.ylabel('Y Label')\n",
    "plt.title('2')\n",
    "\n",
    "# plt.subplot(2,2,3)\n",
    "# plt.plot(x,y)\n",
    "# plt.xlabel('X Label')\n",
    "# plt.ylabel('Y Label')\n",
    "# plt.title('3')\n",
    "\n",
    "# plt.subplot(2,2,4)\n",
    "# plt.plot(x,y, 'r')\n",
    "# plt.xlabel('X Label')\n",
    "# plt.ylabel('Y Label')\n",
    "# plt.title('4')\n",
    "\n",
    "plt.tight_layout()"
   ]
  },
  {
   "cell_type": "markdown",
   "metadata": {},
   "source": [
    "## Method 2 -- Object Oriented way"
   ]
  },
  {
   "cell_type": "code",
   "execution_count": null,
   "metadata": {},
   "outputs": [],
   "source": [
    "# Method 2 -- Object Oriented way\n",
    "fig = plt.figure()\n",
    "\n",
    "axes = fig.add_axes([0.1, 0.1, 0.8, 1])\n",
    "# rect : sequence of float\n",
    "# The dimensions [left, bottom, width, height] of the new axes. \n",
    "# All quantities are in fractions of figure width and height.\n"
   ]
  },
  {
   "cell_type": "code",
   "execution_count": null,
   "metadata": {},
   "outputs": [],
   "source": [
    "\n",
    "fig = plt.figure()\n",
    "\n",
    "axes = fig.add_axes([0.1, 0.1, 0.5, 1])\n",
    "# rect : sequence of float\n",
    "# The dimensions [left, bottom, width, height] of the new axes. \n",
    "# All quantities are in fractions of figure width and height.\n"
   ]
  },
  {
   "cell_type": "code",
   "execution_count": null,
   "metadata": {},
   "outputs": [],
   "source": [
    "fig = plt.figure()\n",
    "\n",
    "axes = fig.add_axes([0.1, 0.1, 1, 1])\n",
    "# rect : sequence of float\n",
    "# The dimensions [left, bottom, width, height] of the new axes. \n",
    "# All quantities are in fractions of figure width and height.\n",
    "\n",
    "axes.plot(x,y)\n",
    "axes.set_xlabel('X Label')\n",
    "axes.set_ylabel('Y Label')\n",
    "axes.set_title('Title')"
   ]
  },
  {
   "cell_type": "code",
   "execution_count": null,
   "metadata": {},
   "outputs": [],
   "source": [
    "fig = plt.figure()\n",
    "\n",
    "axes1 = fig.add_axes([0, 0, 1, 1])\n",
    "axes2 = fig.add_axes([0.1, 0.1, 1, 1])\n",
    "# rect : sequence of float\n",
    "# The dimensions [left, bottom, width, height] of the new axes. \n",
    "# All quantities are in fractions of figure width and height.\n",
    "\n"
   ]
  },
  {
   "cell_type": "code",
   "execution_count": null,
   "metadata": {},
   "outputs": [],
   "source": [
    "fig = plt.figure()\n",
    "\n",
    "axes1 = fig.add_axes([0, 0, 1, 1])\n",
    "axes2 = fig.add_axes([0.12, 0.45, 0.45, 0.45])\n",
    "# rect : sequence of float\n",
    "# The dimensions [left, bottom, width, height] of the new axes. \n",
    "# All quantities are in fractions of figure width and height.\n",
    "\n",
    "axes1.plot(x,y)\n",
    "axes1.set_xlabel('X Label')\n",
    "axes1.set_ylabel('Y Label')\n",
    "axes1.set_title('Larger Plot')\n",
    "\n",
    "axes2.plot(x,y, 'ro')\n",
    "axes2.set_xlabel('X Label')\n",
    "axes2.set_ylabel('Y Label')\n",
    "axes2.set_title('Smaller Plot')\n"
   ]
  },
  {
   "cell_type": "code",
   "execution_count": null,
   "metadata": {},
   "outputs": [],
   "source": [
    "fig, axes = plt.subplots(nrows=2, ncols=2)\n",
    "plt.tight_layout()\n",
    "axes\n"
   ]
  },
  {
   "cell_type": "code",
   "execution_count": null,
   "metadata": {},
   "outputs": [],
   "source": [
    "print(axes)"
   ]
  },
  {
   "cell_type": "code",
   "execution_count": null,
   "metadata": {},
   "outputs": [],
   "source": [
    "fig, axes = plt.subplots(nrows=2, ncols=2)\n",
    "\n",
    "\n",
    "axes[0][0].plot(x,y)\n",
    "plt.tight_layout()"
   ]
  },
  {
   "cell_type": "code",
   "execution_count": null,
   "metadata": {
    "scrolled": false
   },
   "outputs": [],
   "source": [
    "fig, axes = plt.subplots(nrows=2, ncols=2)\n",
    "\n",
    "line_styles = ['', '--', '-', '-.', ':']\n",
    "colors = ['', 'b', 'g', 'k', 'y']\n",
    "for idx, ax in enumerate(axes.reshape(-1), 1): \n",
    "    ax.plot(x,y, color=colors[idx], linestyle=line_styles[idx])\n",
    "    ax.set_title(f'This is plot # {idx}.')\n",
    "plt.tight_layout()\n"
   ]
  },
  {
   "cell_type": "code",
   "execution_count": null,
   "metadata": {},
   "outputs": [],
   "source": []
  },
  {
   "cell_type": "code",
   "execution_count": null,
   "metadata": {},
   "outputs": [],
   "source": [
    "axes.reshape(-1)"
   ]
  },
  {
   "cell_type": "code",
   "execution_count": null,
   "metadata": {},
   "outputs": [],
   "source": [
    "fig, axes = plt.subplots(nrows=2, ncols=1, figsize=(16,5))\n",
    "axes[0].plot(x,y)\n",
    "axes[1].plot(x,y, 'ro')\n",
    "plt.tight_layout()\n",
    "\n",
    "# figsize : (float, float), optional, default: None\n",
    "# width, height in inches. If not provided, defaults to "
   ]
  },
  {
   "cell_type": "code",
   "execution_count": null,
   "metadata": {},
   "outputs": [],
   "source": [
    "# fig.savefig('figure') #default is png\n",
    "# fig.savefig('figure.jpeg')\n",
    "# fig.savefig('figure2', dpi=300) \n",
    "fig.savefig('figure2svg.svg', dpi=300) "
   ]
  },
  {
   "cell_type": "code",
   "execution_count": null,
   "metadata": {},
   "outputs": [],
   "source": []
  },
  {
   "cell_type": "code",
   "execution_count": null,
   "metadata": {},
   "outputs": [],
   "source": [
    "fig = plt.figure()\n",
    "\n",
    "axes = fig.add_axes([0.1, 0.1, 1, 1])\n",
    "# rect : sequence of float\n",
    "# The dimensions [left, bottom, width, height] of the new axes. \n",
    "# All quantities are in fractions of figure width and height.\n",
    "y3 = [ele*3 for ele in y]\n",
    "axes.plot(x,y, label='x,y')\n",
    "axes.plot(x,y3, label='x,y**3')\n",
    "axes.set_xlabel('X Label')\n",
    "axes.set_ylabel('Y Label')\n",
    "axes.set_title('Title')\n",
    "axes.legend(loc='center', fontsize=12)\n",
    "# axes.legend(loc=1)\n",
    "# axes.legend(loc=[0.5,0.5])\n",
    "\n",
    "# Location String \tLocation Code\n",
    "# 'best' \t0\n",
    "# 'upper right' \t1\n",
    "# 'upper left' \t2\n",
    "# 'lower left' \t3\n",
    "# 'lower right' \t4\n",
    "# 'right' \t5\n",
    "# 'center left' \t6\n",
    "# 'center right' \t7\n",
    "# 'lower center' \t8\n",
    "# 'upper center' \t9\n",
    "# 'center' \t10"
   ]
  },
  {
   "cell_type": "code",
   "execution_count": null,
   "metadata": {},
   "outputs": [],
   "source": [
    "fig = plt.figure()\n",
    "\n",
    "axes = fig.add_axes([0.1, 0.1, 1, 1])\n",
    "# axes.plot(x,y, 'r')\n",
    "# axes.plot(x,y, color='yellow')\n",
    "\n",
    "# axes.plot(x,y, 'k')\n",
    "axes.plot(x,y, color='black')\n",
    "\n",
    "# # https://www.color-hex.com/\n",
    "axes.plot(x,y, color='#0099ff', linewidth=10)"
   ]
  },
  {
   "cell_type": "code",
   "execution_count": null,
   "metadata": {},
   "outputs": [],
   "source": [
    "fig = plt.figure()\n",
    "\n",
    "axes = fig.add_axes([0.1, 0.1, 1, 1])\n",
    "# axes.plot(x,y, 'r', linewidth=4)\n",
    "\n",
    "\n",
    "\n",
    "axes.plot(x,y, '+--b', lw=4, alpha=1)"
   ]
  },
  {
   "cell_type": "code",
   "execution_count": null,
   "metadata": {},
   "outputs": [],
   "source": [
    "fig = plt.figure()\n",
    "\n",
    "axes = fig.add_axes([0.1, 0.1, 1, 1])\n",
    "axes.plot(x,y, 'r-.', lw=5, linestyle=':')\n",
    "# Linestyle \tDescription\n",
    "# '-' or 'solid' \tsolid line\n",
    "# '--' or 'dashed' \tdashed line\n",
    "# '-.' or 'dashdot' \tdash-dotted line\n",
    "# ':' or 'dotted' \tdotted line\n",
    "# 'None' or ' ' or '' \tdraw nothing"
   ]
  },
  {
   "cell_type": "code",
   "execution_count": null,
   "metadata": {},
   "outputs": [],
   "source": [
    "fig = plt.figure()\n",
    "\n",
    "axes = fig.add_axes([0.1, 0.1, 1, 1])\n",
    "# axes.plot(x,y, marker='o')\n",
    "axes.plot(x,y, 'b', marker='o', markersize=10)\n",
    "#https://matplotlib.org/3.1.1/api/markers_api.html"
   ]
  },
  {
   "cell_type": "code",
   "execution_count": null,
   "metadata": {},
   "outputs": [],
   "source": [
    "fig = plt.figure()\n",
    "\n",
    "axes = fig.add_axes([0.1, 0.1, 1, 1])\n",
    "# axes.plot(x,y, 'b', marker='o', markersize=10, markerfacecolor='red')\n",
    "axes.plot(x,y, 'b', marker='o', markersize=10, markerfacecolor='yellow', markeredgewidth=3, markeredgecolor='k')\n",
    "#https://matplotlib.org/3.1.1/api/markers_api.html"
   ]
  },
  {
   "cell_type": "code",
   "execution_count": null,
   "metadata": {},
   "outputs": [],
   "source": [
    "fig = plt.figure()\n",
    "\n",
    "axes = fig.add_axes([0, 0, 1, 1])\n",
    "axes.plot(x,y)\n",
    "axes.set_xlim([0,5])\n",
    "axes.set_ylim([0,30])"
   ]
  },
  {
   "cell_type": "code",
   "execution_count": null,
   "metadata": {},
   "outputs": [],
   "source": [
    "# https://github.com/rougier/matplotlib-tutorial\n",
    "# https://medium.com/@kapil.mathur1987/matplotlib-an-introduction-to-its-object-oriented-interface-a318b1530aed"
   ]
  },
  {
   "cell_type": "code",
   "execution_count": null,
   "metadata": {},
   "outputs": [],
   "source": [
    "import numpy as np\n",
    "\n",
    "t = 2*np.pi/3\n",
    "plt.plot([t,t],[0,np.cos(t)], color ='blue', linewidth=1.5, linestyle=\"--\")\n",
    "plt.scatter([t,],[np.cos(t),], 50, color ='blue')\n",
    "\n",
    "plt.annotate(r'$\\sin(\\frac{2\\pi}{3})=\\frac{\\sqrt{3}}{2}$',\n",
    "             xy=(t, np.sin(t)), xycoords='data',\n",
    "             xytext=(+10, +30), textcoords='offset points', fontsize=16,\n",
    "             arrowprops=dict(arrowstyle=\"->\", connectionstyle=\"arc3,rad=.2\"))\n",
    "\n",
    "plt.plot([t,t],[0,np.sin(t)], color ='red', linewidth=1.5, linestyle=\"--\")\n",
    "plt.scatter([t,],[np.sin(t),], 50, color ='red')\n",
    "\n",
    "plt.annotate(r'$\\cos(\\frac{2\\pi}{3})=-\\frac{1}{2}$',\n",
    "             xy=(t, np.cos(t)), xycoords='data',\n",
    "             xytext=(-90, -50), textcoords='offset points', fontsize=16,\n",
    "             arrowprops=dict(arrowstyle=\"->\", connectionstyle=\"arc3,rad=.2\"))"
   ]
  },
  {
   "cell_type": "code",
   "execution_count": null,
   "metadata": {},
   "outputs": [],
   "source": [
    "import matplotlib.pyplot as plt \n",
    "import pandas as pd \n",
    "import numpy as np\n",
    "data = pd.read_csv(\"https://raw.githubusercontent.com/fivethirtyeight/data/master/airline-safety/airline-safety.csv\")\n",
    "# Get figure object and an array of axes objects\n",
    "fig, arr_ax = plt.subplots(2, 2)\n",
    "\n",
    "# arr_ax[x][x] or arr_ax[x,x]\n",
    "\n",
    "# Histogram - fatal_accidents_85_99\n",
    "arr_ax[0,0].hist(data['fatal_accidents_85_99'])\n",
    "arr_ax[0,0].set_title('fatal_accidents_85_99')\n",
    "\n",
    "# Histogram - fatal_accidents_00_14\n",
    "arr_ax[0,1].hist(data['fatal_accidents_00_14'])\n",
    "arr_ax[0,1].set_title('fatal_accidents_00_14')\n",
    "\n",
    "# Scatter - fatal_accidents_85_99 vs fatalities_85_99\n",
    "arr_ax[1,0].scatter(data['fatal_accidents_85_99'], data['fatalities_85_99'])\n",
    "arr_ax[1,0].set_xlabel('fatal_accidents_85_99')\n",
    "arr_ax[1,0].set_ylabel('fatalities_85_99')\n",
    "\n",
    "# scatter - avail_seat_km_per_week vs fatalities_00_14\n",
    "arr_ax[1,1].scatter(data['avail_seat_km_per_week'], data['fatalities_00_14'])\n",
    "arr_ax[1,1].set_xlabel('avail_seat_km_per_week')\n",
    "arr_ax[1,1].set_ylabel('fatalities_00_14')\n",
    "plt.tight_layout()\n",
    "plt.show()\n"
   ]
  },
  {
   "cell_type": "code",
   "execution_count": null,
   "metadata": {},
   "outputs": [],
   "source": [
    "# https://www.machinelearningplus.com/plots/top-50-matplotlib-visualizations-the-master-plots-python/\n",
    "# https://levelup.gitconnected.com/an-introduction-of-python-matplotlib-with-40-basic-examples-5174383a6889"
   ]
  },
  {
   "cell_type": "code",
   "execution_count": null,
   "metadata": {},
   "outputs": [],
   "source": [
    "import pandas as pd\n",
    "import numpy as np\n",
    "# Prepare Data\n",
    "df = pd.read_csv(\"https://github.com/selva86/datasets/raw/master/mtcars.csv\")\n",
    "x = df.loc[:, ['mpg']]\n",
    "df['mpg_z'] = (x - x.mean())/x.std()\n",
    "df['colors'] = ['red' if x < 0 else 'darkgreen' for x in df['mpg_z']]\n",
    "df.sort_values('mpg_z', inplace=True)\n",
    "df.reset_index(inplace=True)\n",
    "\n",
    "# Draw plot\n",
    "plt.figure(figsize=(14,16), dpi= 80)\n",
    "plt.scatter(df.mpg_z, df.index, s=450, alpha=.6, color=df.colors)\n",
    "for x, y, tex in zip(df.mpg_z, df.index, df.mpg_z):\n",
    "    t = plt.text(x, y, round(tex, 1), horizontalalignment='center', \n",
    "                 verticalalignment='center', fontdict={'color':'white'})\n",
    "\n",
    "# Decorations\n",
    "# Lighten borders\n",
    "plt.gca().spines[\"top\"].set_alpha(.3)\n",
    "plt.gca().spines[\"bottom\"].set_alpha(.3)\n",
    "plt.gca().spines[\"right\"].set_alpha(.3)\n",
    "plt.gca().spines[\"left\"].set_alpha(.3)\n",
    "\n",
    "plt.yticks(df.index, df.cars)\n",
    "plt.title('Diverging Dotplot of Car Mileage', fontdict={'size':20})\n",
    "plt.xlabel('$Mileage$')\n",
    "plt.grid(linestyle='--', alpha=0.5)\n",
    "plt.xlim(-2.5, 2.5)\n",
    "plt.show()"
   ]
  },
  {
   "cell_type": "markdown",
   "metadata": {},
   "source": [
    "# seaborn\n",
    "\n",
    "From https://seaborn.pydata.org/introduction.html"
   ]
  },
  {
   "cell_type": "code",
   "execution_count": null,
   "metadata": {},
   "outputs": [],
   "source": [
    "# Load an example dataset\n",
    "tips = sns.load_dataset(\"tips\")\n",
    "tips"
   ]
  },
  {
   "cell_type": "code",
   "execution_count": null,
   "metadata": {},
   "outputs": [],
   "source": [
    "#%matplotlib widget\n",
    "#%matplotlib inline\n",
    "# Create a visualization\n",
    "sns.relplot(\n",
    "    data=tips,\n",
    "    x=\"total_bill\", y=\"tip\", col=\"time\",\n",
    "    hue=\"smoker\", style=\"smoker\", size=\"size\",\n",
    ")"
   ]
  },
  {
   "cell_type": "code",
   "execution_count": null,
   "metadata": {},
   "outputs": [],
   "source": []
  },
  {
   "cell_type": "code",
   "execution_count": null,
   "metadata": {},
   "outputs": [],
   "source": []
  },
  {
   "cell_type": "code",
   "execution_count": null,
   "metadata": {},
   "outputs": [],
   "source": []
  },
  {
   "cell_type": "code",
   "execution_count": null,
   "metadata": {},
   "outputs": [],
   "source": []
  },
  {
   "cell_type": "code",
   "execution_count": null,
   "metadata": {},
   "outputs": [],
   "source": []
  },
  {
   "cell_type": "code",
   "execution_count": null,
   "metadata": {},
   "outputs": [],
   "source": []
  }
 ],
 "metadata": {
  "kernelspec": {
   "display_name": "Python 3 (ipykernel)",
   "language": "python",
   "name": "python3"
  },
  "language_info": {
   "codemirror_mode": {
    "name": "ipython",
    "version": 3
   },
   "file_extension": ".py",
   "mimetype": "text/x-python",
   "name": "python",
   "nbconvert_exporter": "python",
   "pygments_lexer": "ipython3",
   "version": "3.9.7"
  }
 },
 "nbformat": 4,
 "nbformat_minor": 2
}
